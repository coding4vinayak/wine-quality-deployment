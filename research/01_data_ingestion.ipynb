{
 "cells": [
  {
   "cell_type": "code",
   "execution_count": 11,
   "metadata": {},
   "outputs": [],
   "source": [
    "import os"
   ]
  },
  {
   "cell_type": "code",
   "execution_count": 12,
   "metadata": {},
   "outputs": [
    {
     "data": {
      "text/plain": [
       "'/workspace/wine-quality-deployment'"
      ]
     },
     "execution_count": 12,
     "metadata": {},
     "output_type": "execute_result"
    }
   ],
   "source": [
    "%pwd"
   ]
  },
  {
   "cell_type": "code",
   "execution_count": 3,
   "metadata": {},
   "outputs": [],
   "source": [
    "os.chdir(\"../\")"
   ]
  },
  {
   "cell_type": "code",
   "execution_count": 13,
   "metadata": {},
   "outputs": [
    {
     "data": {
      "text/plain": [
       "'/workspace/wine-quality-deployment'"
      ]
     },
     "execution_count": 13,
     "metadata": {},
     "output_type": "execute_result"
    }
   ],
   "source": [
    "%pwd"
   ]
  },
  {
   "cell_type": "code",
   "execution_count": 17,
   "metadata": {},
   "outputs": [],
   "source": [
    "from dataclasses import dataclass\n",
    "from pathlib import Path\n",
    "\n",
    "\n",
    "@dataclass(frozen=True)\n",
    "class DataIngestionConfig:\n",
    "    root_dir: Path\n",
    "    source_URL: str\n",
    "    local_data_file: Path\n",
    "    unzip_dir: Path"
   ]
  },
  {
   "cell_type": "code",
   "execution_count": 22,
   "metadata": {},
   "outputs": [
    {
     "ename": "ModuleNotFoundError",
     "evalue": "No module named 'mlProject'",
     "output_type": "error",
     "traceback": [
      "\u001b[0;31m---------------------------------------------------------------------------\u001b[0m",
      "\u001b[0;31mModuleNotFoundError\u001b[0m                       Traceback (most recent call last)",
      "\u001b[1;32m/workspace/wine-quality-deployment/research/01_data_ingestion.ipynb Cell 6\u001b[0m line \u001b[0;36m1\n\u001b[0;32m----> <a href='vscode-notebook-cell://coding4vina-winequality-p138xg916a5.ws-us110.gitpod.io/workspace/wine-quality-deployment/research/01_data_ingestion.ipynb#W5sdnNjb2RlLXJlbW90ZQ%3D%3D?line=0'>1</a>\u001b[0m \u001b[39mfrom\u001b[39;00m \u001b[39mmlProject\u001b[39;00m\u001b[39m.\u001b[39;00m\u001b[39mconstants\u001b[39;00m \u001b[39mimport\u001b[39;00m \u001b[39m*\u001b[39m\n\u001b[1;32m      <a href='vscode-notebook-cell://coding4vina-winequality-p138xg916a5.ws-us110.gitpod.io/workspace/wine-quality-deployment/research/01_data_ingestion.ipynb#W5sdnNjb2RlLXJlbW90ZQ%3D%3D?line=1'>2</a>\u001b[0m \u001b[39mfrom\u001b[39;00m \u001b[39mmlProject\u001b[39;00m\u001b[39m.\u001b[39;00m\u001b[39mutils\u001b[39;00m\u001b[39m.\u001b[39;00m\u001b[39mcommon\u001b[39;00m \u001b[39mimport\u001b[39;00m read_yaml, create_directories\n",
      "\u001b[0;31mModuleNotFoundError\u001b[0m: No module named 'mlProject'"
     ]
    }
   ],
   "source": [
    "from mlProject.constants import *\n",
    "from mlProject.utils.common import read_yaml, create_directories"
   ]
  },
  {
   "cell_type": "code",
   "execution_count": 16,
   "metadata": {},
   "outputs": [
    {
     "ename": "NameError",
     "evalue": "name 'CONFIG_FILE_PATH' is not defined",
     "output_type": "error",
     "traceback": [
      "\u001b[0;31m---------------------------------------------------------------------------\u001b[0m",
      "\u001b[0;31mNameError\u001b[0m                                 Traceback (most recent call last)",
      "\u001b[1;32m/workspace/wine-quality-deployment/research/01_data_ingestion.ipynb Cell 7\u001b[0m line \u001b[0;36m1\n\u001b[0;32m----> <a href='vscode-notebook-cell://coding4vina-winequality-p138xg916a5.ws-us110.gitpod.io/workspace/wine-quality-deployment/research/01_data_ingestion.ipynb#W6sdnNjb2RlLXJlbW90ZQ%3D%3D?line=0'>1</a>\u001b[0m \u001b[39mclass\u001b[39;49;00m \u001b[39mConfigurationManager\u001b[39;49;00m:\n\u001b[1;32m      <a href='vscode-notebook-cell://coding4vina-winequality-p138xg916a5.ws-us110.gitpod.io/workspace/wine-quality-deployment/research/01_data_ingestion.ipynb#W6sdnNjb2RlLXJlbW90ZQ%3D%3D?line=1'>2</a>\u001b[0m     \u001b[39mdef\u001b[39;49;00m \u001b[39m__init__\u001b[39;49m(\n\u001b[1;32m      <a href='vscode-notebook-cell://coding4vina-winequality-p138xg916a5.ws-us110.gitpod.io/workspace/wine-quality-deployment/research/01_data_ingestion.ipynb#W6sdnNjb2RlLXJlbW90ZQ%3D%3D?line=2'>3</a>\u001b[0m         \u001b[39mself\u001b[39;49m,\n\u001b[1;32m      <a href='vscode-notebook-cell://coding4vina-winequality-p138xg916a5.ws-us110.gitpod.io/workspace/wine-quality-deployment/research/01_data_ingestion.ipynb#W6sdnNjb2RlLXJlbW90ZQ%3D%3D?line=3'>4</a>\u001b[0m         config_filepath \u001b[39m=\u001b[39;49m CONFIG_FILE_PATH,\n\u001b[1;32m      <a href='vscode-notebook-cell://coding4vina-winequality-p138xg916a5.ws-us110.gitpod.io/workspace/wine-quality-deployment/research/01_data_ingestion.ipynb#W6sdnNjb2RlLXJlbW90ZQ%3D%3D?line=4'>5</a>\u001b[0m         params_filepath \u001b[39m=\u001b[39;49m PARAMS_FILE_PATH,\n\u001b[1;32m      <a href='vscode-notebook-cell://coding4vina-winequality-p138xg916a5.ws-us110.gitpod.io/workspace/wine-quality-deployment/research/01_data_ingestion.ipynb#W6sdnNjb2RlLXJlbW90ZQ%3D%3D?line=5'>6</a>\u001b[0m         schema_filepath \u001b[39m=\u001b[39;49m SCHEMA_FILE_PATH):\n\u001b[1;32m      <a href='vscode-notebook-cell://coding4vina-winequality-p138xg916a5.ws-us110.gitpod.io/workspace/wine-quality-deployment/research/01_data_ingestion.ipynb#W6sdnNjb2RlLXJlbW90ZQ%3D%3D?line=7'>8</a>\u001b[0m         \u001b[39mself\u001b[39;49m\u001b[39m.\u001b[39;49mconfig \u001b[39m=\u001b[39;49m read_yaml(config_filepath)\n",
      "\u001b[1;32m/workspace/wine-quality-deployment/research/01_data_ingestion.ipynb Cell 7\u001b[0m line \u001b[0;36m4\n\u001b[1;32m      <a href='vscode-notebook-cell://coding4vina-winequality-p138xg916a5.ws-us110.gitpod.io/workspace/wine-quality-deployment/research/01_data_ingestion.ipynb#W6sdnNjb2RlLXJlbW90ZQ%3D%3D?line=0'>1</a>\u001b[0m \u001b[39mclass\u001b[39;00m \u001b[39mConfigurationManager\u001b[39;00m:\n\u001b[1;32m      <a href='vscode-notebook-cell://coding4vina-winequality-p138xg916a5.ws-us110.gitpod.io/workspace/wine-quality-deployment/research/01_data_ingestion.ipynb#W6sdnNjb2RlLXJlbW90ZQ%3D%3D?line=1'>2</a>\u001b[0m     \u001b[39mdef\u001b[39;00m \u001b[39m__init__\u001b[39m(\n\u001b[1;32m      <a href='vscode-notebook-cell://coding4vina-winequality-p138xg916a5.ws-us110.gitpod.io/workspace/wine-quality-deployment/research/01_data_ingestion.ipynb#W6sdnNjb2RlLXJlbW90ZQ%3D%3D?line=2'>3</a>\u001b[0m         \u001b[39mself\u001b[39m,\n\u001b[0;32m----> <a href='vscode-notebook-cell://coding4vina-winequality-p138xg916a5.ws-us110.gitpod.io/workspace/wine-quality-deployment/research/01_data_ingestion.ipynb#W6sdnNjb2RlLXJlbW90ZQ%3D%3D?line=3'>4</a>\u001b[0m         config_filepath \u001b[39m=\u001b[39m CONFIG_FILE_PATH,\n\u001b[1;32m      <a href='vscode-notebook-cell://coding4vina-winequality-p138xg916a5.ws-us110.gitpod.io/workspace/wine-quality-deployment/research/01_data_ingestion.ipynb#W6sdnNjb2RlLXJlbW90ZQ%3D%3D?line=4'>5</a>\u001b[0m         params_filepath \u001b[39m=\u001b[39m PARAMS_FILE_PATH,\n\u001b[1;32m      <a href='vscode-notebook-cell://coding4vina-winequality-p138xg916a5.ws-us110.gitpod.io/workspace/wine-quality-deployment/research/01_data_ingestion.ipynb#W6sdnNjb2RlLXJlbW90ZQ%3D%3D?line=5'>6</a>\u001b[0m         schema_filepath \u001b[39m=\u001b[39m SCHEMA_FILE_PATH):\n\u001b[1;32m      <a href='vscode-notebook-cell://coding4vina-winequality-p138xg916a5.ws-us110.gitpod.io/workspace/wine-quality-deployment/research/01_data_ingestion.ipynb#W6sdnNjb2RlLXJlbW90ZQ%3D%3D?line=7'>8</a>\u001b[0m         \u001b[39mself\u001b[39m\u001b[39m.\u001b[39mconfig \u001b[39m=\u001b[39m read_yaml(config_filepath)\n\u001b[1;32m      <a href='vscode-notebook-cell://coding4vina-winequality-p138xg916a5.ws-us110.gitpod.io/workspace/wine-quality-deployment/research/01_data_ingestion.ipynb#W6sdnNjb2RlLXJlbW90ZQ%3D%3D?line=8'>9</a>\u001b[0m         \u001b[39mself\u001b[39m\u001b[39m.\u001b[39mparams \u001b[39m=\u001b[39m read_yaml(params_filepath)\n",
      "\u001b[0;31mNameError\u001b[0m: name 'CONFIG_FILE_PATH' is not defined"
     ]
    }
   ],
   "source": [
    "class ConfigurationManager:\n",
    "    def __init__(\n",
    "        self,\n",
    "        config_filepath = CONFIG_FILE_PATH,\n",
    "        params_filepath = PARAMS_FILE_PATH,\n",
    "        schema_filepath = SCHEMA_FILE_PATH):\n",
    "\n",
    "        self.config = read_yaml(config_filepath)\n",
    "        self.params = read_yaml(params_filepath)\n",
    "        self.schema = read_yaml(schema_filepath)\n",
    "\n",
    "        create_directories([self.config.artifacts_root])\n",
    "\n",
    "\n",
    "    \n",
    "    def get_data_ingestion_config(self) -> DataIngestionConfig:\n",
    "        config = self.config.data_ingestion\n",
    "\n",
    "        create_directories([config.root_dir])\n",
    "\n",
    "        data_ingestion_config = DataIngestionConfig(\n",
    "            root_dir=config.root_dir,\n",
    "            source_URL=config.source_URL,\n",
    "            local_data_file=config.local_data_file,\n",
    "            unzip_dir=config.unzip_dir \n",
    "        )\n",
    "\n",
    "        return data_ingestion_config"
   ]
  },
  {
   "cell_type": "code",
   "execution_count": null,
   "metadata": {},
   "outputs": [],
   "source": [
    "import os\n",
    "import urllib.request as request\n",
    "import zipfile\n",
    "from mlProject import logger\n",
    "from mlProject.utils.common import get_size"
   ]
  },
  {
   "cell_type": "code",
   "execution_count": null,
   "metadata": {},
   "outputs": [],
   "source": [
    "class DataIngestion:\n",
    "    def __init__(self, config: DataIngestionConfig):\n",
    "        self.config = config\n",
    "\n",
    "\n",
    "    \n",
    "    def download_file(self):\n",
    "        if not os.path.exists(self.config.local_data_file):\n",
    "            filename, headers = request.urlretrieve(\n",
    "                url = self.config.source_URL,\n",
    "                filename = self.config.local_data_file\n",
    "            )\n",
    "            logger.info(f\"{filename} download! with following info: \\n{headers}\")\n",
    "        else:\n",
    "            logger.info(f\"File already exists of size: {get_size(Path(self.config.local_data_file))}\")\n",
    "\n",
    "\n",
    "\n",
    "    def extract_zip_file(self):\n",
    "        \"\"\"\n",
    "        zip_file_path: str\n",
    "        Extracts the zip file into the data directory\n",
    "        Function returns None\n",
    "        \"\"\"\n",
    "        unzip_path = self.config.unzip_dir\n",
    "        os.makedirs(unzip_path, exist_ok=True)\n",
    "        with zipfile.ZipFile(self.config.local_data_file, 'r') as zip_ref:\n",
    "            zip_ref.extractall(unzip_path)\n",
    "  "
   ]
  },
  {
   "cell_type": "code",
   "execution_count": null,
   "metadata": {},
   "outputs": [
    {
     "name": "stdout",
     "output_type": "stream",
     "text": [
      "[2023-07-11 09:48:52,013: INFO: common: yaml file: config\\config.yaml loaded successfully]\n",
      "[2023-07-11 09:48:52,015: INFO: common: yaml file: params.yaml loaded successfully]\n",
      "[2023-07-11 09:48:52,017: INFO: common: yaml file: schema.yaml loaded successfully]\n",
      "[2023-07-11 09:48:52,020: INFO: common: created directory at: artifacts]\n",
      "[2023-07-11 09:48:52,021: INFO: common: created directory at: artifacts/data_ingestion]\n",
      "[2023-07-11 09:48:53,478: INFO: 2366278714: artifacts/data_ingestion/data.zip download! with following info: \n",
      "Connection: close\n",
      "Content-Length: 23329\n",
      "Cache-Control: max-age=300\n",
      "Content-Security-Policy: default-src 'none'; style-src 'unsafe-inline'; sandbox\n",
      "Content-Type: application/zip\n",
      "ETag: \"c69888a4ae59bc5a893392785a938ccd4937981c06ba8a9d6a21aa52b4ab5b6e\"\n",
      "Strict-Transport-Security: max-age=31536000\n",
      "X-Content-Type-Options: nosniff\n",
      "X-Frame-Options: deny\n",
      "X-XSS-Protection: 1; mode=block\n",
      "X-GitHub-Request-Id: 3E94:6864:6F310:85DCD:64ACD122\n",
      "Accept-Ranges: bytes\n",
      "Date: Tue, 11 Jul 2023 03:48:51 GMT\n",
      "Via: 1.1 varnish\n",
      "X-Served-By: cache-hkg17928-HKG\n",
      "X-Cache: MISS\n",
      "X-Cache-Hits: 0\n",
      "X-Timer: S1689047331.016661,VS0,VE353\n",
      "Vary: Authorization,Accept-Encoding,Origin\n",
      "Access-Control-Allow-Origin: *\n",
      "Cross-Origin-Resource-Policy: cross-origin\n",
      "X-Fastly-Request-ID: 43493bd55c5e75d012dfa4dd102f06d0b14306ba\n",
      "Expires: Tue, 11 Jul 2023 03:53:51 GMT\n",
      "Source-Age: 0\n",
      "\n",
      "]\n"
     ]
    }
   ],
   "source": [
    "try:\n",
    "    config = ConfigurationManager()\n",
    "    data_ingestion_config = config.get_data_ingestion_config()\n",
    "    data_ingestion = DataIngestion(config=data_ingestion_config)\n",
    "    data_ingestion.download_file()\n",
    "    data_ingestion.extract_zip_file()\n",
    "except Exception as e:\n",
    "    raise e"
   ]
  },
  {
   "cell_type": "code",
   "execution_count": null,
   "metadata": {},
   "outputs": [],
   "source": []
  }
 ],
 "metadata": {
  "kernelspec": {
   "display_name": "mlproj",
   "language": "python",
   "name": "python3"
  },
  "language_info": {
   "codemirror_mode": {
    "name": "ipython",
    "version": 3
   },
   "file_extension": ".py",
   "mimetype": "text/x-python",
   "name": "python",
   "nbconvert_exporter": "python",
   "pygments_lexer": "ipython3",
   "version": "3.8.16"
  },
  "orig_nbformat": 4
 },
 "nbformat": 4,
 "nbformat_minor": 2
}
